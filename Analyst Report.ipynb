{
 "cells": [
  {
   "cell_type": "code",
   "execution_count": 39,
   "id": "715d69d1",
   "metadata": {},
   "outputs": [
    {
     "data": {
      "text/plain": [
       "''"
      ]
     },
     "execution_count": 39,
     "metadata": {},
     "output_type": "execute_result"
    }
   ],
   "source": [
    "# import FPDF library\n",
    "from fpdf import FPDF\n",
    "\n",
    "# create Block Inc Research Report\n",
    "XYZ = FPDF(orientation='P', unit='mm', format='A4')\n",
    "\n",
    "\n",
    "# title page\n",
    "XYZ.add_page()\n",
    "\n",
    "# date\n",
    "XYZ.set_font('Arial', 'I', 12)\n",
    "XYZ.cell(40, 10, '30/04/2025', 0, 1)\n",
    "\n",
    "# title\n",
    "XYZ.set_font('Arial', 'U', 30)\n",
    "XYZ.cell(195, 150, 'Block Inc. Equity Research Report', 0, 1, 'C')\n",
    "\n",
    "# group\n",
    "\n",
    "XYZ.set_font('Arial', 'B', 12)\n",
    "XYZ.cell(20, 10, 'Group 1', 0, 1)\n",
    "\n",
    "# members\n",
    "XYZ.set_font('Arial', '', 12)\n",
    "XYZ.cell(0, 6, 'William Fairley', 0, 1)\n",
    "XYZ.cell(0, 6, 'Charlie OConnenll', 0, 1)\n",
    "XYZ.cell(0, 6, 'Brenton Peters', 0, 1)\n",
    "XYZ.cell(0, 6, 'Annabel Woods', 0, 1)\n",
    "\n",
    "\n",
    "\n",
    "\n",
    "# output\n",
    "XYZ.output('Block Inc Research Report.pdf')\n"
   ]
  }
 ],
 "metadata": {
  "kernelspec": {
   "display_name": "Python 3",
   "language": "python",
   "name": "python3"
  },
  "language_info": {
   "codemirror_mode": {
    "name": "ipython",
    "version": 3
   },
   "file_extension": ".py",
   "mimetype": "text/x-python",
   "name": "python",
   "nbconvert_exporter": "python",
   "pygments_lexer": "ipython3",
   "version": "3.12.2"
  }
 },
 "nbformat": 4,
 "nbformat_minor": 5
}
